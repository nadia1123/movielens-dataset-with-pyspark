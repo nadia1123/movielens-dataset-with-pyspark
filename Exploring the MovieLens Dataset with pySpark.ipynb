{
 "cells": [
  {
   "cell_type": "markdown",
   "metadata": {},
   "source": [
    "# Exploring the MovieLens Dataset with `pySpark`"
   ]
  },
  {
   "cell_type": "markdown",
   "metadata": {},
   "source": [
    "*Apache Spark* is a popular framework for big data. It supports a wide variety of data analytics tasks including data cleaning, stream processing, and machine learning. It can be used to perform large and parallel computations, performing calculations on a single laptop or a cluster of computers. This makes it a useful tool when the data gets too large for `pandas` to handle. Spark can be accessed in Scala, its native API, as well as in Python, Java, R and SQL. In general the `DataFrame` API in Python should achieve the same performance as in Scala. \n",
    "\n",
    "This Jupyter Notebook will demonstrate how to get started using `pySpark` and the `DataFrame` API to perform some basic data analysis, including:\n",
    "- reading in data\n",
    "- performing aggregations and joins using the Spark SQL module\n",
    "- calculating summary statistics\n",
    "\n",
    "We will use the [MovieLens 20M Dataset](https://grouplens.org/datasets/movielens/) on movie ratings to find out:\n",
    "- What are the most popular movies?\n",
    "- What are the top rated movies?\n",
    "- Which movies are the most polarising?\n",
    "\n",
    "**Note**: This Notebook assumes that you have pySpark installed and configured to work with the Jupyter Notebook. The purpose of this Notebook is to demonstrate some basic Spark techniques rather than to provide an installation guide. For information on how to get pySpark running on the Jupyter Notebook, please refer to [this blog post](https://blog.sicara.com/get-started-pyspark-jupyter-guide-tutorial-ae2fe84f594f)."
   ]
  },
  {
   "cell_type": "markdown",
   "metadata": {},
   "source": [
    "## Initialising Spark"
   ]
  },
  {
   "cell_type": "markdown",
   "metadata": {},
   "source": [
    "To use Spark, we must first initialise a `SparkSession`. This is the entry point to using Spark in an application.\n",
    "\n",
    "Depending on how we have configured Spark, we may also need to use the `findspark` package to make the `SparkSession` available. "
   ]
  },
  {
   "cell_type": "code",
   "execution_count": 1,
   "metadata": {
    "collapsed": true
   },
   "outputs": [],
   "source": [
    "import findspark\n",
    "findspark.init()"
   ]
  },
  {
   "cell_type": "code",
   "execution_count": 2,
   "metadata": {
    "collapsed": true
   },
   "outputs": [],
   "source": [
    "import pyspark\n",
    "from pyspark.sql import SparkSession\n",
    "spark = SparkSession.builder.appName('MovieLens').getOrCreate()"
   ]
  },
  {
   "cell_type": "markdown",
   "metadata": {},
   "source": [
    "## Reading in the data"
   ]
  },
  {
   "cell_type": "markdown",
   "metadata": {},
   "source": [
    "The *MovieLens 20M* Dataset contains 20,000,263 ratings and 465,564 tag applications across 27,278 movies. The dataset was generated in 2016. All users in the dataset rated at least 20 movies. \n",
    "\n",
    "The dataset contains six CSV files. We will be using the **`movies`** and **`ratings`** files. Let's see what these two files look like.\n",
    "\n",
    "To read in a CSV file, we access the `DataFrameReader` class through `read` and then call the `csv()` method on it. We also specify `option(\"header\", \"true\")` so that the first row of the file is used for the column headers. "
   ]
  },
  {
   "cell_type": "code",
   "execution_count": 3,
   "metadata": {},
   "outputs": [
    {
     "name": "stdout",
     "output_type": "stream",
     "text": [
      "+------+-------+------+----------+\n",
      "|userId|movieId|rating| timestamp|\n",
      "+------+-------+------+----------+\n",
      "|     1|      2|   3.5|1112486027|\n",
      "|     1|     29|   3.5|1112484676|\n",
      "|     1|     32|   3.5|1112484819|\n",
      "|     1|     47|   3.5|1112484727|\n",
      "|     1|     50|   3.5|1112484580|\n",
      "+------+-------+------+----------+\n",
      "only showing top 5 rows\n",
      "\n"
     ]
    }
   ],
   "source": [
    "ratings = spark.read.option(\"header\", \"true\").csv(\"ml-20m/ratings.csv\")\n",
    "ratings.show(5)"
   ]
  },
  {
   "cell_type": "markdown",
   "metadata": {},
   "source": [
    "Each row of the `ratings` DataFrame represents one rating for one movie (`movieId`) by one user (`userId`). The ratings use a 5-star scale with half-star increments from 0.5 stars up to 5.0 stars. We can print the DataFrame's column names and types using the `printSchema()` method."
   ]
  },
  {
   "cell_type": "code",
   "execution_count": 4,
   "metadata": {},
   "outputs": [
    {
     "name": "stdout",
     "output_type": "stream",
     "text": [
      "root\n",
      " |-- userId: string (nullable = true)\n",
      " |-- movieId: string (nullable = true)\n",
      " |-- rating: string (nullable = true)\n",
      " |-- timestamp: string (nullable = true)\n",
      "\n"
     ]
    }
   ],
   "source": [
    "ratings.printSchema()"
   ]
  },
  {
   "cell_type": "code",
   "execution_count": 5,
   "metadata": {},
   "outputs": [
    {
     "name": "stdout",
     "output_type": "stream",
     "text": [
      "+-------+--------------------+--------------------+\n",
      "|movieId|               title|              genres|\n",
      "+-------+--------------------+--------------------+\n",
      "|      1|    Toy Story (1995)|Adventure|Animati...|\n",
      "|      2|      Jumanji (1995)|Adventure|Childre...|\n",
      "|      3|Grumpier Old Men ...|      Comedy|Romance|\n",
      "|      4|Waiting to Exhale...|Comedy|Drama|Romance|\n",
      "|      5|Father of the Bri...|              Comedy|\n",
      "+-------+--------------------+--------------------+\n",
      "only showing top 5 rows\n",
      "\n"
     ]
    }
   ],
   "source": [
    "movies = spark.read.option(\"header\", \"true\").csv(\"ml-20m/movies.csv\")\n",
    "movies.show(5)"
   ]
  },
  {
   "cell_type": "markdown",
   "metadata": {},
   "source": [
    "Each row of the `movies` DataFrame represents one movie and its title and genre(s), indexed by the key `movieId`. We will use this DataFrame to get the movie titles out so we know which movie the ratings in the `ratings` DataFrame are actually referring to. "
   ]
  },
  {
   "cell_type": "markdown",
   "metadata": {},
   "source": [
    "## Most popular movies"
   ]
  },
  {
   "cell_type": "markdown",
   "metadata": {},
   "source": [
    "To get the most popular movies, we are looking for the movies with the highest number of ratings (we use the number of ratings as a proxy for the number of views). To do this, we will perform the following *transformations* on the `ratings` DataFrame: \n",
    "- group by `movieId`\n",
    "- count the number of users (`userId`) associated with each movie \n",
    "- rename this column to `num_ratings`\n",
    "- sort by `num_ratings` in descending order \n",
    "\n",
    "In the next cell, we perform these transformations in `pySpark` and store the DataFrame as `most_popular`."
   ]
  },
  {
   "cell_type": "code",
   "execution_count": 6,
   "metadata": {
    "collapsed": true
   },
   "outputs": [],
   "source": [
    "from pyspark.sql.functions import *\n",
    "\n",
    "most_popular = ratings\\\n",
    ".groupBy(\"movieId\")\\\n",
    ".agg(count(\"userId\"))\\\n",
    ".withColumnRenamed(\"count(userId)\", \"num_ratings\")\\\n",
    ".sort(desc(\"num_ratings\"))"
   ]
  },
  {
   "cell_type": "markdown",
   "metadata": {},
   "source": [
    "The DataFrame methods we have used here are:\n",
    "- `groupBy` - groups the DataFrame by the given column\n",
    "- `agg` - allows us to perform an aggregate calculation on grouped data (this can be a built-in aggregation function such as *count* or a user defined function)\n",
    "- `withColumnRenamed` - renames an existing column with a new column name\n",
    "- `sort` - sorts by the specified column(s)\n",
    "\n",
    "Because transformations are *lazy* in Spark, the transformations above aren't performed until we call an *action*, such as `show()`, `take()`, or `collect()`."
   ]
  },
  {
   "cell_type": "code",
   "execution_count": 7,
   "metadata": {},
   "outputs": [
    {
     "name": "stdout",
     "output_type": "stream",
     "text": [
      "+-------+-----------+\n",
      "|movieId|num_ratings|\n",
      "+-------+-----------+\n",
      "|    296|      67310|\n",
      "|    356|      66172|\n",
      "|    318|      63366|\n",
      "|    593|      63299|\n",
      "|    480|      59715|\n",
      "|    260|      54502|\n",
      "|    110|      53769|\n",
      "|    589|      52244|\n",
      "|   2571|      51334|\n",
      "|    527|      50054|\n",
      "+-------+-----------+\n",
      "only showing top 10 rows\n",
      "\n"
     ]
    }
   ],
   "source": [
    "most_popular.show(10)"
   ]
  },
  {
   "cell_type": "markdown",
   "metadata": {},
   "source": [
    "This DataFrame contains only the `movieId` and `num_ratings`. The actual title of the movie is stored in the `movies` DataFrame. To get the movie titles, we can join our `most_popular` DataFrame with the `movies` DataFrame on `movieId`. By default, `join` performs an inner join which is what we want in this case."
   ]
  },
  {
   "cell_type": "code",
   "execution_count": 8,
   "metadata": {},
   "outputs": [
    {
     "name": "stdout",
     "output_type": "stream",
     "text": [
      "+-------+-----------+-------+-----------------------------------------------------+-------------------------------------------+\n",
      "|movieId|num_ratings|movieId|title                                                |genres                                     |\n",
      "+-------+-----------+-------+-----------------------------------------------------+-------------------------------------------+\n",
      "|296    |67310      |296    |Pulp Fiction (1994)                                  |Comedy|Crime|Drama|Thriller                |\n",
      "|356    |66172      |356    |Forrest Gump (1994)                                  |Comedy|Drama|Romance|War                   |\n",
      "|318    |63366      |318    |Shawshank Redemption, The (1994)                     |Crime|Drama                                |\n",
      "|593    |63299      |593    |Silence of the Lambs, The (1991)                     |Crime|Horror|Thriller                      |\n",
      "|480    |59715      |480    |Jurassic Park (1993)                                 |Action|Adventure|Sci-Fi|Thriller           |\n",
      "|260    |54502      |260    |Star Wars: Episode IV - A New Hope (1977)            |Action|Adventure|Sci-Fi                    |\n",
      "|110    |53769      |110    |Braveheart (1995)                                    |Action|Drama|War                           |\n",
      "|589    |52244      |589    |Terminator 2: Judgment Day (1991)                    |Action|Sci-Fi                              |\n",
      "|2571   |51334      |2571   |Matrix, The (1999)                                   |Action|Sci-Fi|Thriller                     |\n",
      "|527    |50054      |527    |Schindler's List (1993)                              |Drama|War                                  |\n",
      "|1      |49695      |1      |Toy Story (1995)                                     |Adventure|Animation|Children|Comedy|Fantasy|\n",
      "|457    |49581      |457    |Fugitive, The (1993)                                 |Thriller                                   |\n",
      "|150    |47777      |150    |Apollo 13 (1995)                                     |Adventure|Drama|IMAX                       |\n",
      "|780    |47048      |780    |Independence Day (a.k.a. ID4) (1996)                 |Action|Adventure|Sci-Fi|Thriller           |\n",
      "|50     |47006      |50     |Usual Suspects, The (1995)                           |Crime|Mystery|Thriller                     |\n",
      "|1210   |46839      |1210   |Star Wars: Episode VI - Return of the Jedi (1983)    |Action|Adventure|Sci-Fi                    |\n",
      "|592    |46054      |592    |Batman (1989)                                        |Action|Crime|Thriller                      |\n",
      "|1196   |45313      |1196   |Star Wars: Episode V - The Empire Strikes Back (1980)|Action|Adventure|Sci-Fi                    |\n",
      "|2858   |44987      |2858   |American Beauty (1999)                               |Comedy|Drama                               |\n",
      "|32     |44980      |32     |Twelve Monkeys (a.k.a. 12 Monkeys) (1995)            |Mystery|Sci-Fi|Thriller                    |\n",
      "+-------+-----------+-------+-----------------------------------------------------+-------------------------------------------+\n",
      "only showing top 20 rows\n",
      "\n"
     ]
    }
   ],
   "source": [
    "most_popular_movies = most_popular.join(movies, most_popular.movieId == movies.movieId)\n",
    "most_popular_movies.show(20, truncate=False)"
   ]
  },
  {
   "cell_type": "markdown",
   "metadata": {},
   "source": [
    "We now have a list of the most popular (or most rated) movies on the *MovieLens* website. As expected, the titles listed here are indeed all well-known movies."
   ]
  },
  {
   "cell_type": "markdown",
   "metadata": {},
   "source": [
    "## Top rated movies"
   ]
  },
  {
   "cell_type": "markdown",
   "metadata": {},
   "source": [
    "We've got the top 10 most popular movies, but now we want to see which movies are perceived to be the best. To get the top rated movies, we are looking for the movies with the highest average rating. To do this, we will use the `ratings` DataFrame and: \n",
    "\n",
    "- group by `movieId` \n",
    "- calculate the average rating for each movie\n",
    "- rename this column to `avg_rating`\n",
    "- sort by `avg_rating` in descending order "
   ]
  },
  {
   "cell_type": "code",
   "execution_count": 9,
   "metadata": {
    "collapsed": true
   },
   "outputs": [],
   "source": [
    "top_rated = ratings\\\n",
    ".groupBy(\"movieId\")\\\n",
    ".agg(avg(col(\"rating\")))\\\n",
    ".withColumnRenamed(\"avg(rating)\", \"avg_rating\")\\\n",
    ".sort(desc(\"avg_rating\"))"
   ]
  },
  {
   "cell_type": "markdown",
   "metadata": {},
   "source": [
    "We will again join this DataFrame with the `movies` DataFrame so we know which movie each `movieId` is referring to."
   ]
  },
  {
   "cell_type": "code",
   "execution_count": 10,
   "metadata": {},
   "outputs": [
    {
     "name": "stdout",
     "output_type": "stream",
     "text": [
      "+-------+----------+-------+--------------------+------------------+\n",
      "|movieId|avg_rating|movieId|               title|            genres|\n",
      "+-------+----------+-------+--------------------+------------------+\n",
      "|  95517|       5.0|  95517|Barchester Chroni...|             Drama|\n",
      "| 109715|       5.0| 109715|Inquire Within (2...|            Comedy|\n",
      "| 111548|       5.0| 111548|Welcome to Austra...|       Documentary|\n",
      "| 129905|       5.0| 129905|The Floating Cast...|      Comedy|Drama|\n",
      "|  98761|       5.0|  98761|Shaolin Temple 2:...|     Action|Comedy|\n",
      "|  27914|       5.0|  27914|Hijacking Catastr...|       Documentary|\n",
      "| 129305|       5.0| 129305|Pretty Things (2001)|             Drama|\n",
      "| 106113|       5.0| 106113|Such Hawks Such H...|       Documentary|\n",
      "|  94431|       5.0|  94431|Ella Lola, a la T...|(no genres listed)|\n",
      "|  93707|       5.0|  93707|Prom Queen: The M...|      Comedy|Drama|\n",
      "+-------+----------+-------+--------------------+------------------+\n",
      "only showing top 10 rows\n",
      "\n"
     ]
    }
   ],
   "source": [
    "top_rated_movies = top_rated.join(movies, top_rated.movieId == movies.movieId)\n",
    "top_rated_movies.show(10)"
   ]
  },
  {
   "cell_type": "markdown",
   "metadata": {},
   "source": [
    "The movies listed here appear to be quite niche. We want to focus on top rated movies that also have a decent number of ratings, so want to take into account both the average rating *and* the number of ratings. We can easily create a DataFrame which has both of these columns by specifying multiple expressions within one `agg()` call. "
   ]
  },
  {
   "cell_type": "code",
   "execution_count": 11,
   "metadata": {
    "collapsed": true
   },
   "outputs": [],
   "source": [
    "top_rated = ratings\\\n",
    ".groupBy(\"movieId\")\\\n",
    ".agg(count(\"userId\"), avg(col(\"rating\")))\\\n",
    ".withColumnRenamed(\"count(userId)\", \"num_ratings\")\\\n",
    ".withColumnRenamed(\"avg(rating)\", \"avg_rating\")"
   ]
  },
  {
   "cell_type": "code",
   "execution_count": 12,
   "metadata": {},
   "outputs": [
    {
     "name": "stdout",
     "output_type": "stream",
     "text": [
      "+-------+-----------+----------+-------+--------------------+-------------+\n",
      "|movieId|num_ratings|avg_rating|movieId|               title|       genres|\n",
      "+-------+-----------+----------+-------+--------------------+-------------+\n",
      "| 108527|          2|       5.0| 108527|  Catastroika (2012)|  Documentary|\n",
      "| 103871|          2|       5.0| 103871|Consuming Kids: T...|  Documentary|\n",
      "| 106113|          1|       5.0| 106113|Such Hawks Such H...|  Documentary|\n",
      "|  93707|          1|       5.0|  93707|Prom Queen: The M...| Comedy|Drama|\n",
      "| 109715|          1|       5.0| 109715|Inquire Within (2...|       Comedy|\n",
      "| 129905|          1|       5.0| 129905|The Floating Cast...| Comedy|Drama|\n",
      "| 129305|          1|       5.0| 129305|Pretty Things (2001)|        Drama|\n",
      "|  98761|          1|       5.0|  98761|Shaolin Temple 2:...|Action|Comedy|\n",
      "| 111548|          1|       5.0| 111548|Welcome to Austra...|  Documentary|\n",
      "|  27914|          1|       5.0|  27914|Hijacking Catastr...|  Documentary|\n",
      "+-------+-----------+----------+-------+--------------------+-------------+\n",
      "only showing top 10 rows\n",
      "\n"
     ]
    }
   ],
   "source": [
    "top_rated_movies = top_rated.join(movies, top_rated.movieId == movies.movieId).sort(desc(\"avg_rating\"), desc(\"num_ratings\"))\n",
    "top_rated_movies.show(10)"
   ]
  },
  {
   "cell_type": "markdown",
   "metadata": {},
   "source": [
    "We see that all of the movies with an average rating of exactly 5.0 have 2 or less ratings. We would like to only consider movies that have achieved some minimum number of ratings. To determine an appropriate threshold, we should investigate the distribution of `num_ratings`. We can do this by calculating some summary statistics within Spark."
   ]
  },
  {
   "cell_type": "code",
   "execution_count": 13,
   "metadata": {},
   "outputs": [
    {
     "name": "stdout",
     "output_type": "stream",
     "text": [
      "+-----------------+----------------+----------------+\n",
      "| avg(num_ratings)|min(num_ratings)|max(num_ratings)|\n",
      "+-----------------+----------------+----------------+\n",
      "|747.8411232425965|               1|           67310|\n",
      "+-----------------+----------------+----------------+\n",
      "\n"
     ]
    }
   ],
   "source": [
    "# Calculate average, minimum, and maximum of num_ratings\n",
    "top_rated_movies.select([mean('num_ratings'), min('num_ratings'), max('num_ratings')]).show(1)"
   ]
  },
  {
   "cell_type": "markdown",
   "metadata": {},
   "source": [
    "To calculate quantiles we use the `approxQuantile` method. This method can calculate the quantiles of the specified column approximately or exactly, depending on the value of the relative error parameter. If the relative error parameter is set to 0 then the quantiles are calculated exactly, however this can be expensive. "
   ]
  },
  {
   "cell_type": "code",
   "execution_count": 14,
   "metadata": {},
   "outputs": [
    {
     "data": {
      "text/plain": [
       "[18.0]"
      ]
     },
     "execution_count": 14,
     "metadata": {},
     "output_type": "execute_result"
    }
   ],
   "source": [
    "# median\n",
    "top_rated_movies.approxQuantile('num_ratings', [0.5], 0)"
   ]
  },
  {
   "cell_type": "code",
   "execution_count": 15,
   "metadata": {},
   "outputs": [
    {
     "data": {
      "text/plain": [
       "[3.0]"
      ]
     },
     "execution_count": 15,
     "metadata": {},
     "output_type": "execute_result"
    }
   ],
   "source": [
    "# first quartile\n",
    "top_rated_movies.approxQuantile('num_ratings', [0.25], 0)"
   ]
  },
  {
   "cell_type": "code",
   "execution_count": 16,
   "metadata": {},
   "outputs": [
    {
     "data": {
      "text/plain": [
       "[205.0]"
      ]
     },
     "execution_count": 16,
     "metadata": {},
     "output_type": "execute_result"
    }
   ],
   "source": [
    "# third quartile\n",
    "top_rated_movies.approxQuantile('num_ratings', [0.75], 0)"
   ]
  },
  {
   "cell_type": "markdown",
   "metadata": {},
   "source": [
    "The mean is much greater than the median value, suggesting that this distribution is skewed to the right. We will choose a minimum threshold of 500 ratings, however there is no right or wrong answer here and the reader is encouraged to experiment with different values for this threshold."
   ]
  },
  {
   "cell_type": "code",
   "execution_count": 17,
   "metadata": {},
   "outputs": [
    {
     "name": "stdout",
     "output_type": "stream",
     "text": [
      "+-------+-----------+------------------+-------+---------------------------------------------------------------------------+-----------------------------------------+\n",
      "|movieId|num_ratings|avg_rating        |movieId|title                                                                      |genres                                   |\n",
      "+-------+-----------+------------------+-------+---------------------------------------------------------------------------+-----------------------------------------+\n",
      "|318    |63366      |4.446990499637029 |318    |Shawshank Redemption, The (1994)                                           |Crime|Drama                              |\n",
      "|858    |41355      |4.364732196832306 |858    |Godfather, The (1972)                                                      |Crime|Drama                              |\n",
      "|50     |47006      |4.334372207803259 |50     |Usual Suspects, The (1995)                                                 |Crime|Mystery|Thriller                   |\n",
      "|527    |50054      |4.310175010988133 |527    |Schindler's List (1993)                                                    |Drama|War                                |\n",
      "|1221   |27398      |4.275640557704942 |1221   |Godfather: Part II, The (1974)                                             |Crime|Drama                              |\n",
      "|2019   |11611      |4.2741796572216   |2019   |Seven Samurai (Shichinin no samurai) (1954)                                |Action|Adventure|Drama                   |\n",
      "|904    |17449      |4.271333600779414 |904    |Rear Window (1954)                                                         |Mystery|Thriller                         |\n",
      "|7502   |4305       |4.263182346109176 |7502   |Band of Brothers (2001)                                                    |Action|Drama|War                         |\n",
      "|912    |24349      |4.258326830670664 |912    |Casablanca (1942)                                                          |Drama|Romance                            |\n",
      "|922    |6525       |4.256934865900383 |922    |Sunset Blvd. (a.k.a. Sunset Boulevard) (1950)                              |Drama|Film-Noir|Romance                  |\n",
      "|1193   |29932      |4.24807897901911  |1193   |One Flew Over the Cuckoo's Nest (1975)                                     |Drama                                    |\n",
      "|750    |23220      |4.247286821705426 |750    |Dr. Strangelove or: How I Learned to Stop Worrying and Love the Bomb (1964)|Comedy|War                               |\n",
      "|1212   |6565       |4.246001523229246 |1212   |Third Man, The (1949)                                                      |Film-Noir|Mystery|Thriller               |\n",
      "|6016   |12937      |4.235410064157069 |6016   |City of God (Cidade de Deus) (2002)                                        |Action|Adventure|Crime|Drama|Thriller    |\n",
      "|44555  |5720       |4.2347902097902095|44555  |Lives of Others, The (Das leben der Anderen) (2006)                        |Drama|Romance|Thriller                   |\n",
      "|908    |15627      |4.233538107122288 |908    |North by Northwest (1959)                                                  |Action|Adventure|Mystery|Romance|Thriller|\n",
      "|1178   |3568       |4.2326233183856505|1178   |Paths of Glory (1957)                                                      |Drama|War                                |\n",
      "|2959   |40106      |4.227123123722136 |2959   |Fight Club (1999)                                                          |Action|Crime|Drama|Thriller              |\n",
      "|3435   |4909       |4.224281931146873 |3435   |Double Indemnity (1944)                                                    |Crime|Drama|Film-Noir                    |\n",
      "|1203   |12934      |4.224137931034483 |1203   |12 Angry Men (1957)                                                        |Drama                                    |\n",
      "+-------+-----------+------------------+-------+---------------------------------------------------------------------------+-----------------------------------------+\n",
      "only showing top 20 rows\n",
      "\n"
     ]
    }
   ],
   "source": [
    "top_rated_movies.where(\"num_ratings > 500\").show(20, truncate=False)"
   ]
  },
  {
   "cell_type": "markdown",
   "metadata": {},
   "source": [
    "We've now gotten a list of the top rated movies on MovieLens, which includes the usual movies considered to be all time greats such as *The Shawshank Redemption* and *Casablanca*. Interestingly, nearly all of these movies appear in the [top 100 of the IMDb top rated movies list](https://www.imdb.com/chart/top) as well, with the exception of the *The Third Man* (listed as #135) and *Band of Brothers* which is technically a TV series rather than a movie.\n",
    "\n",
    "What's also interesting is that this list of movies is not the same as the list of the most popular movies. *The Shawshank Redemption*, *Schindler's List*, and *The Usual Suspects* were all popular movies which also appear in this list. However, other movies such as *Pulp Fiction*, *Forrest Gump*, and *The Silence of the Lambs* made the top 10 most popular but not the top 10 (or even top 20) most rated. This suggests that some movies actually divide opinion."
   ]
  },
  {
   "cell_type": "markdown",
   "metadata": {},
   "source": [
    "## Most polarising movies (Marmite movies)"
   ]
  },
  {
   "cell_type": "markdown",
   "metadata": {},
   "source": [
    "Next, we will try to answer the question, *What are the most polarising movies*? These are the movies that divide opinon, with people tending to rate them either really highly or really poorly. We will refer to these as *Marmite* movies. Again, we only want to consider movies that achieve some minimum number of ratings - we will stick with our previous threshold of 500 ratings. \n",
    "\n",
    "To approach this, we will look for the movies with the highest standard deviation in rating. This is a measure of how much the data varies from the mean, so in this case, how much a movie's ratings vary around its mean rating. A high standard deviation would suggest that the movie's ratings are highly variable. There are other approaches to this as well, for instance, what proportion of the ratings are very positive or very negative."
   ]
  },
  {
   "cell_type": "code",
   "execution_count": 18,
   "metadata": {
    "collapsed": true
   },
   "outputs": [],
   "source": [
    "ratings_stddev = ratings\\\n",
    ".groupBy(\"movieId\")\\\n",
    ".agg(count(\"userId\").alias(\"num_ratings\"), \n",
    "     avg(col(\"rating\")).alias(\"avg_rating\"),\n",
    "     stddev(col(\"rating\")).alias(\"std_rating\")\n",
    "    )\\\n",
    ".where(\"num_ratings > 500\")"
   ]
  },
  {
   "cell_type": "code",
   "execution_count": 19,
   "metadata": {},
   "outputs": [
    {
     "name": "stdout",
     "output_type": "stream",
     "text": [
      "+-------+-----------+------------------+------------------+\n",
      "|movieId|num_ratings|        avg_rating|        std_rating|\n",
      "+-------+-----------+------------------+------------------+\n",
      "|    296|      67310| 4.174231169217055|0.9760762295742448|\n",
      "|   1090|      15808| 3.919977226720648|0.8272067263021856|\n",
      "|   3959|       2869| 3.699372603694667|0.8607671626686735|\n",
      "|   2294|      10163| 3.303207714257601|0.9047000233824075|\n",
      "|   6731|       1173|3.5571184995737424|0.9189292350434509|\n",
      "+-------+-----------+------------------+------------------+\n",
      "only showing top 5 rows\n",
      "\n"
     ]
    }
   ],
   "source": [
    "ratings_stddev.show(5)"
   ]
  },
  {
   "cell_type": "code",
   "execution_count": 20,
   "metadata": {
    "collapsed": true
   },
   "outputs": [],
   "source": [
    "marmite_movies = ratings_stddev.join(movies, ratings_stddev.movieId == movies.movieId)"
   ]
  },
  {
   "cell_type": "code",
   "execution_count": 22,
   "metadata": {
    "scrolled": true
   },
   "outputs": [
    {
     "name": "stdout",
     "output_type": "stream",
     "text": [
      "+-------+-----------+------------------+------------------+-------+----------------------------------------------------------------------------+-------------------------------------+\n",
      "|movieId|num_ratings|avg_rating        |std_rating        |movieId|title                                                                       |genres                               |\n",
      "+-------+-----------+------------------+------------------+-------+----------------------------------------------------------------------------+-------------------------------------+\n",
      "|27899  |579        |2.8860103626943006|1.4221290413577283|27899  |What the #$*! Do We Know!? (a.k.a. What the Bleep Do We Know!?) (2004)      |Comedy|Documentary|Drama             |\n",
      "|1924   |2304       |2.6319444444444446|1.4201711823223824|1924   |Plan 9 from Outer Space (1959)                                              |Horror|Sci-Fi                        |\n",
      "|91104  |516        |2.4728682170542635|1.353614474548174 |91104  |Twilight Saga: Breaking Dawn - Part 1, The (2011)                           |Adventure|Drama|Fantasy|Romance      |\n",
      "|4255   |1550       |2.1351612903225807|1.3504497277537109|4255   |Freddy Got Fingered (2001)                                                  |Comedy                               |\n",
      "|78772  |884        |2.670814479638009 |1.3485057430514158|78772  |Twilight Saga: Eclipse, The (2010)                                          |Fantasy|Romance|Thriller|IMAX        |\n",
      "|72407  |1135       |2.565638766519824 |1.336754840108039 |72407  |Twilight Saga: New Moon, The (2009)                                         |Drama|Fantasy|Horror|Romance|Thriller|\n",
      "|7318   |3130       |3.185623003194888 |1.3354273707057582|7318   |Passion of the Christ, The (2004)                                           |Drama                                |\n",
      "|63992  |2156       |2.74652133580705  |1.322607968218707 |63992  |Twilight (2008)                                                             |Drama|Fantasy|Romance|Thriller       |\n",
      "|1105   |922        |2.3345986984815617|1.3217574182346987|1105   |Children of the Corn IV: The Gathering (1996)                               |Horror                               |\n",
      "|747    |1084       |2.3325645756457565|1.3141605603130373|747    |Stupids, The (1996)                                                         |Comedy                               |\n",
      "|50189  |643        |2.5536547433903576|1.3139551191220458|50189  |American Pie Presents The Naked Mile (American Pie 5: The Naked Mile) (2006)|Comedy|Romance                       |\n",
      "|166    |650        |2.787692307692308 |1.305553822503628 |166    |Doom Generation, The (1995)                                                 |Comedy|Crime|Drama                   |\n",
      "|6005   |591        |3.3096446700507616|1.3047079193760418|6005   |Blue Collar Comedy Tour: The Movie (2003)                                   |Comedy|Documentary                   |\n",
      "|8531   |1177       |2.3343245539507222|1.2991013665459505|8531   |White Chicks (2004)                                                         |Action|Comedy|Crime                  |\n",
      "|5047   |1305       |2.7203065134099615|1.2916116452609898|5047   |Kung Pow: Enter the Fist (2002)                                             |Action|Comedy                        |\n",
      "+-------+-----------+------------------+------------------+-------+----------------------------------------------------------------------------+-------------------------------------+\n",
      "only showing top 15 rows\n",
      "\n"
     ]
    }
   ],
   "source": [
    "marmite_movies.sort(desc(\"std_rating\")).show(15, truncate=False)"
   ]
  },
  {
   "cell_type": "markdown",
   "metadata": {},
   "source": [
    "We see that the list of polarising movies includes the *Twilight* movies, the controversial *Passion of the Christ*, and the cult low-budget science fiction movie *Plan 9 from Outer Space*."
   ]
  },
  {
   "cell_type": "markdown",
   "metadata": {},
   "source": [
    "## Conclusion"
   ]
  },
  {
   "cell_type": "markdown",
   "metadata": {},
   "source": [
    "This tutorial has demonstrated how to use the `pySpark DataFrame` API to perform some simple data analysis tasks. In particular, we have seen how to perform aggregations, joins, and compute summary statistics on large datasets. There is a lot more that could be done with this dataset, including investigating other ways to identify polarising movies, looking at the effect of movie genres, and building a recommender system. Note that when working in `pySpark`, it may useful to refer back to the [official pySpark documentation](https://spark.apache.org/docs/latest/api/python/pyspark.html). "
   ]
  }
 ],
 "metadata": {
  "anaconda-cloud": {},
  "kernelspec": {
   "display_name": "Python [conda root]",
   "language": "python",
   "name": "conda-root-py"
  },
  "language_info": {
   "codemirror_mode": {
    "name": "ipython",
    "version": 3
   },
   "file_extension": ".py",
   "mimetype": "text/x-python",
   "name": "python",
   "nbconvert_exporter": "python",
   "pygments_lexer": "ipython3",
   "version": "3.5.6"
  },
  "toc": {
   "base_numbering": 1,
   "nav_menu": {
    "height": "238px",
    "width": "412px"
   },
   "number_sections": true,
   "sideBar": true,
   "skip_h1_title": false,
   "title_cell": "Table of Contents",
   "title_sidebar": "Contents",
   "toc_cell": false,
   "toc_position": {},
   "toc_section_display": true,
   "toc_window_display": false
  }
 },
 "nbformat": 4,
 "nbformat_minor": 2
}
